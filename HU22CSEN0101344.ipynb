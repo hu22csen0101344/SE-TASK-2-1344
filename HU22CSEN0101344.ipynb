{
  "nbformat": 4,
  "nbformat_minor": 0,
  "metadata": {
    "colab": {
      "provenance": [],
      "authorship_tag": "ABX9TyNH162JqUBY7TK1uOGLDlVX",
      "include_colab_link": true
    },
    "kernelspec": {
      "name": "python3",
      "display_name": "Python 3"
    },
    "language_info": {
      "name": "python"
    }
  },
  "cells": [
    {
      "cell_type": "markdown",
      "metadata": {
        "id": "view-in-github",
        "colab_type": "text"
      },
      "source": [
        "<a href=\"https://colab.research.google.com/github/hu22csen0101344/SE-TASK-2-1344/blob/main/HU22CSEN0101344.ipynb\" target=\"_parent\"><img src=\"https://colab.research.google.com/assets/colab-badge.svg\" alt=\"Open In Colab\"/></a>"
      ]
    },
    {
      "cell_type": "code",
      "execution_count": null,
      "metadata": {
        "id": "5A_RCdh-Mpyz"
      },
      "outputs": [],
      "source": []
    },
    {
      "cell_type": "markdown",
      "source": [
        "1. Hardcoding Variables"
      ],
      "metadata": {
        "id": "nk8wtLw7Mv8p"
      }
    },
    {
      "cell_type": "code",
      "source": [
        "# Hard-Coding Variables\n",
        "number1 = 10\n",
        "number2 = 5\n",
        "\n",
        "# Performing an operation using hard-coded values\n",
        "result = number1 + number2\n",
        "print(f\"Hardcoded result of {number1} + {number2} = {result}\")"
      ],
      "metadata": {
        "colab": {
          "base_uri": "https://localhost:8080/"
        },
        "id": "rzxUiLXzM27Z",
        "outputId": "61138ff5-499c-434d-d0ba-5036890f4c7d"
      },
      "execution_count": 1,
      "outputs": [
        {
          "output_type": "stream",
          "name": "stdout",
          "text": [
            "Hardcoded result of 10 + 5 = 15\n"
          ]
        }
      ]
    },
    {
      "cell_type": "markdown",
      "source": [
        "2. Keyboard Input"
      ],
      "metadata": {
        "id": "c69e9DHWOJZ4"
      }
    },
    {
      "cell_type": "code",
      "source": [
        "# Keyboard Input\n",
        "user_input = input(\"Enter a number: \")\n",
        "user_input = int(user_input)  # Convert the input to an integer\n",
        "\n",
        "# Perform a simple addition\n",
        "total = result + user_input\n",
        "print(f\"Sum of hardcoded result and user input: {total}\")"
      ],
      "metadata": {
        "colab": {
          "base_uri": "https://localhost:8080/"
        },
        "id": "e6AlMRFPOLW_",
        "outputId": "0ba71dfe-d3b4-4026-e5f0-f51dd723007d"
      },
      "execution_count": 2,
      "outputs": [
        {
          "output_type": "stream",
          "name": "stdout",
          "text": [
            "Enter a number: 2\n",
            "Sum of hardcoded result and user input: 17\n"
          ]
        }
      ]
    },
    {
      "cell_type": "markdown",
      "source": [
        "3. Read from a File (Single Input)"
      ],
      "metadata": {
        "id": "Nf_QnHybOdPM"
      }
    },
    {
      "cell_type": "code",
      "source": [
        "# Read a single input from a file\n",
        "filename = '/content/Udith.txt'  # File containing a single input\n",
        "\n",
        "try:\n",
        "    with open(filename, 'r') as file:  # Open the file in read mode\n",
        "        single_input = file.readline().strip()  # Read the first line and remove any extra whitespace\n",
        "    print(f\"The input from the file is: {single_input}\")\n",
        "except FileNotFoundError:\n",
        "    print(f\"Error: The file {filename} was not found.\")"
      ],
      "metadata": {
        "colab": {
          "base_uri": "https://localhost:8080/"
        },
        "id": "jMQxs7PsOeJc",
        "outputId": "00df09dd-ba75-49ec-f57f-8e1275c9ebd2"
      },
      "execution_count": 11,
      "outputs": [
        {
          "output_type": "stream",
          "name": "stdout",
          "text": [
            "The input from the file is: Udith\n"
          ]
        }
      ]
    },
    {
      "cell_type": "markdown",
      "source": [
        "4. Read from a File (Multiple Inputs)"
      ],
      "metadata": {
        "id": "OvlpDrd6Ox6x"
      }
    },
    {
      "cell_type": "code",
      "source": [
        "# Read multiple inputs from a file and process them\n",
        "filename = '/content/Udith,25,New York.txt'  # File containing multiple inputs\n",
        "\n",
        "try:\n",
        "    with open(filename, 'r') as file:\n",
        "        # Read all lines from the file\n",
        "        lines = file.readlines()\n",
        "\n",
        "    # Process each line\n",
        "    for line in lines:\n",
        "        # Split the line into name, age, and city\n",
        "        name, age, city = line.strip().split(',')\n",
        "\n",
        "        # Display the processed data\n",
        "        print(f\"Name: {name}, Age: {age}, City: {city}\")\n",
        "\n",
        "except FileNotFoundError:\n",
        "    print(f\"Error: The file {filename} was not found.\")"
      ],
      "metadata": {
        "colab": {
          "base_uri": "https://localhost:8080/"
        },
        "id": "EN6RkWBAO5Xa",
        "outputId": "e0f57721-3ccf-4ac6-e153-b63c6a68fbfa"
      },
      "execution_count": 18,
      "outputs": [
        {
          "output_type": "stream",
          "name": "stdout",
          "text": [
            "Name: Udith, Age: 25, City: New York\n",
            "Name: sunny, Age: 30, City: Los Angeles\n",
            "Name: karthik, Age: 35, City: Chicago\n"
          ]
        }
      ]
    },
    {
      "cell_type": "markdown",
      "source": [
        "5. Save All Versions"
      ],
      "metadata": {
        "id": "z_hHzNiyPG2g"
      }
    },
    {
      "cell_type": "code",
      "source": [
        "# Write multiple numbers to a file\n",
        "with open('multiple_inputs.txt', 'w') as file:\n",
        "    file.write(\"10\\n20\\n30\")  # Write multiple numbers, each on a new line\n",
        "\n",
        "print(\"multiple_inputs.txt created!\")  # Confirmation message"
      ],
      "metadata": {
        "colab": {
          "base_uri": "https://localhost:8080/"
        },
        "id": "u1TZUhhuPI8n",
        "outputId": "b5e5db60-a019-472d-cdb7-644bf18f1595"
      },
      "execution_count": 19,
      "outputs": [
        {
          "output_type": "stream",
          "name": "stdout",
          "text": [
            "multiple_inputs.txt created!\n"
          ]
        }
      ]
    },
    {
      "cell_type": "markdown",
      "source": [
        "6. Debug and Fix Errors"
      ],
      "metadata": {
        "id": "_Mt74_4zPvMV"
      }
    },
    {
      "cell_type": "code",
      "source": [
        "# Read From File (Multiple Inputs) Example\n",
        "# Program: Read multiple numbers from a file and calculate their sum\n",
        "\n",
        "try:\n",
        "    with open('multiple_inputs.txt', 'r') as file:\n",
        "        numbers = file.readlines()  # Read all lines from the file\n",
        "        numbers = [int(num.strip()) for num in numbers]  # Convert each line to an integer\n",
        "\n",
        "    result = sum(numbers)  # Calculate the sum of the numbers\n",
        "    print(f\"Numbers from file: {numbers}, Sum: {result}\")  # Output the numbers and their sum\n",
        "\n",
        "except FileNotFoundError:\n",
        "    print(\"File not found. Please create a file named 'multiple_inputs.txt'.\")\n",
        "except ValueError:\n",
        "    print(\"File content must contain valid integers.\")"
      ],
      "metadata": {
        "colab": {
          "base_uri": "https://localhost:8080/"
        },
        "id": "IYqTj6yIPxtt",
        "outputId": "9c467ac0-38f1-4094-8ea0-6d957e9c32a6"
      },
      "execution_count": 20,
      "outputs": [
        {
          "output_type": "stream",
          "name": "stdout",
          "text": [
            "Numbers from file: [10, 20, 30], Sum: 60\n"
          ]
        }
      ]
    }
  ]
}